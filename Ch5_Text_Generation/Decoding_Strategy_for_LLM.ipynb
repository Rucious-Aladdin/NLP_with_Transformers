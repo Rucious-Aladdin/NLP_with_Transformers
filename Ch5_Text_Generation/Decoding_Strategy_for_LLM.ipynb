{
 "cells": [
  {
   "cell_type": "code",
   "execution_count": 1,
   "metadata": {
    "colab": {
     "base_uri": "https://localhost:8080/"
    },
    "executionInfo": {
     "elapsed": 20579,
     "status": "ok",
     "timestamp": 1721279145415,
     "user": {
      "displayName": "김수성",
      "userId": "09570314636293598107"
     },
     "user_tz": -540
    },
    "id": "0S8ojHznOoEF",
    "outputId": "5da1400b-2ff5-44ed-c34e-efb001f0a036"
   },
   "outputs": [
    {
     "name": "stdout",
     "output_type": "stream",
     "text": [
      "Mounted at /content/drive/\n"
     ]
    }
   ],
   "source": [
    "from google.colab import drive\n",
    "drive.mount(\"/content/drive/\")"
   ]
  },
  {
   "cell_type": "code",
   "execution_count": 2,
   "metadata": {
    "colab": {
     "base_uri": "https://localhost:8080/"
    },
    "executionInfo": {
     "elapsed": 5943,
     "status": "ok",
     "timestamp": 1721279240709,
     "user": {
      "displayName": "김수성",
      "userId": "09570314636293598107"
     },
     "user_tz": -540
    },
    "id": "L1yZR4QQPKtC",
    "outputId": "3c9a6a69-9cb9-4c4c-ebc7-f7ea7417855b"
   },
   "outputs": [
    {
     "name": "stdout",
     "output_type": "stream",
     "text": [
      "Requirement already satisfied: transformers in /usr/local/lib/python3.10/dist-packages (4.42.4)\n",
      "Requirement already satisfied: filelock in /usr/local/lib/python3.10/dist-packages (from transformers) (3.15.4)\n",
      "Requirement already satisfied: huggingface-hub<1.0,>=0.23.2 in /usr/local/lib/python3.10/dist-packages (from transformers) (0.23.4)\n",
      "Requirement already satisfied: numpy<2.0,>=1.17 in /usr/local/lib/python3.10/dist-packages (from transformers) (1.25.2)\n",
      "Requirement already satisfied: packaging>=20.0 in /usr/local/lib/python3.10/dist-packages (from transformers) (24.1)\n",
      "Requirement already satisfied: pyyaml>=5.1 in /usr/local/lib/python3.10/dist-packages (from transformers) (6.0.1)\n",
      "Requirement already satisfied: regex!=2019.12.17 in /usr/local/lib/python3.10/dist-packages (from transformers) (2024.5.15)\n",
      "Requirement already satisfied: requests in /usr/local/lib/python3.10/dist-packages (from transformers) (2.31.0)\n",
      "Requirement already satisfied: safetensors>=0.4.1 in /usr/local/lib/python3.10/dist-packages (from transformers) (0.4.3)\n",
      "Requirement already satisfied: tokenizers<0.20,>=0.19 in /usr/local/lib/python3.10/dist-packages (from transformers) (0.19.1)\n",
      "Requirement already satisfied: tqdm>=4.27 in /usr/local/lib/python3.10/dist-packages (from transformers) (4.66.4)\n",
      "Requirement already satisfied: fsspec>=2023.5.0 in /usr/local/lib/python3.10/dist-packages (from huggingface-hub<1.0,>=0.23.2->transformers) (2023.6.0)\n",
      "Requirement already satisfied: typing-extensions>=3.7.4.3 in /usr/local/lib/python3.10/dist-packages (from huggingface-hub<1.0,>=0.23.2->transformers) (4.12.2)\n",
      "Requirement already satisfied: charset-normalizer<4,>=2 in /usr/local/lib/python3.10/dist-packages (from requests->transformers) (3.3.2)\n",
      "Requirement already satisfied: idna<4,>=2.5 in /usr/local/lib/python3.10/dist-packages (from requests->transformers) (3.7)\n",
      "Requirement already satisfied: urllib3<3,>=1.21.1 in /usr/local/lib/python3.10/dist-packages (from requests->transformers) (2.0.7)\n",
      "Requirement already satisfied: certifi>=2017.4.17 in /usr/local/lib/python3.10/dist-packages (from requests->transformers) (2024.7.4)\n"
     ]
    }
   ],
   "source": [
    "!pip install transformers"
   ]
  },
  {
   "cell_type": "markdown",
   "metadata": {
    "id": "6-CFAumrYLJx"
   },
   "source": [
    "# Greedy Search Decoding"
   ]
  },
  {
   "cell_type": "code",
   "execution_count": 6,
   "metadata": {
    "colab": {
     "base_uri": "https://localhost:8080/",
     "height": 81,
     "referenced_widgets": [
      "636422cd72a84211a354971942c7eeb4",
      "ff2b397098a34e77b4729fd6c2a622de",
      "a55934e49c1b490d87a1abf4cb22dc7a",
      "e558098aa9fc48ec98857885cb6ea4f2",
      "cc6e20555cca41539778f09777d70d12",
      "984056f7f6a34dd9bb4054fea7640b52",
      "9c39fba543c64548b9f33a92cf502e95",
      "61da5b5fe5c1448cb0bed0dad02c94e2",
      "62f96d5ed7474905b916c000b7da352c",
      "743188ffb3a647d8943848352d6eed48",
      "ddf4e7e1771d4c559fab2ecf27621363",
      "ade5a4267c6d459787510231cd4495b1",
      "c3164178a664460e89d7187529991d66",
      "ce9a62af8c1540839610e4ef7159f8ce",
      "8cbef3c69e9a4ba8ba77be091d4deabe",
      "2a76367d3fc34f10ad8be8e36c9beba8",
      "3b3ef67a4bbb4f598cf1ba946ac0664b",
      "ca73572402d146109dc2ea23533f4dda",
      "53a76f53efa446a9b938502328027c98",
      "4056ab6cb02b423aab9e7df0cdd43f8a",
      "0871d1f5a46248be813dbf7968710969",
      "1eb99bfbaeeb4ee891fd109ad2ca4b64"
     ]
    },
    "executionInfo": {
     "elapsed": 25684,
     "status": "ok",
     "timestamp": 1721279315466,
     "user": {
      "displayName": "김수성",
      "userId": "09570314636293598107"
     },
     "user_tz": -540
    },
    "id": "T_22olAHOvZa",
    "outputId": "5ab0857f-7988-4112-eec6-35f50c4eac42"
   },
   "outputs": [
    {
     "data": {
      "application/vnd.jupyter.widget-view+json": {
       "model_id": "636422cd72a84211a354971942c7eeb4",
       "version_major": 2,
       "version_minor": 0
      },
      "text/plain": [
       "model.safetensors:   0%|          | 0.00/6.43G [00:00<?, ?B/s]"
      ]
     },
     "metadata": {},
     "output_type": "display_data"
    },
    {
     "data": {
      "application/vnd.jupyter.widget-view+json": {
       "model_id": "ade5a4267c6d459787510231cd4495b1",
       "version_major": 2,
       "version_minor": 0
      },
      "text/plain": [
       "generation_config.json:   0%|          | 0.00/124 [00:00<?, ?B/s]"
      ]
     },
     "metadata": {},
     "output_type": "display_data"
    }
   ],
   "source": [
    "import torch\n",
    "from transformers import AutoTokenizer, AutoModelForCausalLM\n",
    "\n",
    "device = \"cuda\" if torch.cuda.is_available() else \"cpu\"\n",
    "model_name = \"gpt2-xl\"\n",
    "tokenizer = AutoTokenizer.from_pretrained(model_name)\n",
    "model = AutoModelForCausalLM.from_pretrained(model_name).to(device)"
   ]
  },
  {
   "cell_type": "code",
   "execution_count": 22,
   "metadata": {
    "executionInfo": {
     "elapsed": 691,
     "status": "ok",
     "timestamp": 1721280050377,
     "user": {
      "displayName": "김수성",
      "userId": "09570314636293598107"
     },
     "user_tz": -540
    },
    "id": "qSE0RXvgPCN4"
   },
   "outputs": [],
   "source": [
    "import pandas as pd\n",
    "\n",
    "input_txt = \"Transformers used in NLP field are the\"\n",
    "input_ids = tokenizer.encode(input_txt, return_tensors=\"pt\").to(device)\n",
    "iterations = []"
   ]
  },
  {
   "cell_type": "code",
   "execution_count": 23,
   "metadata": {
    "executionInfo": {
     "elapsed": 499,
     "status": "ok",
     "timestamp": 1721280052827,
     "user": {
      "displayName": "김수성",
      "userId": "09570314636293598107"
     },
     "user_tz": -540
    },
    "id": "bfP-HOcuPmg2"
   },
   "outputs": [],
   "source": [
    "n_steps = 8\n",
    "choices_per_step = 5\n",
    "\n",
    "with torch.no_grad():\n",
    "  for _ in range(n_steps):\n",
    "    iteration = dict()\n",
    "    iteration[\"Input\"] = tokenizer.decode(input_ids[0])\n",
    "    output = model(input_ids=input_ids)\n",
    "\n",
    "    next_token_logits = output.logits[0, -1, :]\n",
    "    next_token_probs = torch.softmax(next_token_logits, dim=-1)\n",
    "    sorted_ids = torch.argsort(next_token_probs, dim=-1, descending=True)\n",
    "\n",
    "    for choice_idx in range(choices_per_step):\n",
    "      token_id = sorted_ids[choice_idx]\n",
    "      token_prob = next_token_probs[token_id].cpu().numpy()\n",
    "      token_choice = (\n",
    "          f\"{tokenizer.decode(token_id)} ({100 * token_prob:.2f}%)\"\n",
    "      )\n",
    "      iteration[f\"Choice {choice_idx + 1}\"] = token_choice\n",
    "\n",
    "    input_ids = torch.cat([input_ids, sorted_ids[None, 0, None]], dim=-1)\n",
    "    iterations.append(iteration)\n",
    "df = pd.DataFrame(iterations)"
   ]
  },
  {
   "cell_type": "code",
   "execution_count": 24,
   "metadata": {
    "colab": {
     "base_uri": "https://localhost:8080/",
     "height": 311
    },
    "executionInfo": {
     "elapsed": 498,
     "status": "ok",
     "timestamp": 1721280057700,
     "user": {
      "displayName": "김수성",
      "userId": "09570314636293598107"
     },
     "user_tz": -540
    },
    "id": "DKkKHFv9QdVO",
    "outputId": "446b0b60-f473-4c97-8fa1-7ab154c282ce"
   },
   "outputs": [
    {
     "data": {
      "application/vnd.google.colaboratory.intrinsic+json": {
       "summary": "{\n  \"name\": \"df\",\n  \"rows\": 8,\n  \"fields\": [\n    {\n      \"column\": \"Input\",\n      \"properties\": {\n        \"dtype\": \"string\",\n        \"num_unique_values\": 8,\n        \"samples\": [\n          \"Transformers used in NLP field are the following\",\n          \"Transformers used in NLP field are the following:\\n\\nN\",\n          \"Transformers used in NLP field are the\"\n        ],\n        \"semantic_type\": \"\",\n        \"description\": \"\"\n      }\n    },\n    {\n      \"column\": \"Choice 1\",\n      \"properties\": {\n        \"dtype\": \"string\",\n        \"num_unique_values\": 8,\n        \"samples\": [\n          \": (69.10%)\",\n          \"LP (50.94%)\",\n          \" following (29.99%)\"\n        ],\n        \"semantic_type\": \"\",\n        \"description\": \"\"\n      }\n    },\n    {\n      \"column\": \"Choice 2\",\n      \"properties\": {\n        \"dtype\": \"string\",\n        \"num_unique_values\": 8,\n        \"samples\": [\n          \". (6.02%)\",\n          \"oun (3.52%)\",\n          \" same (14.01%)\"\n        ],\n        \"semantic_type\": \"\",\n        \"description\": \"\"\n      }\n    },\n    {\n      \"column\": \"Choice 3\",\n      \"properties\": {\n        \"dtype\": \"string\",\n        \"num_unique_values\": 8,\n        \"samples\": [\n          \" ones (2.36%)\",\n          \"- (2.68%)\",\n          \" ones (5.11%)\"\n        ],\n        \"semantic_type\": \"\",\n        \"description\": \"\"\n      }\n    },\n    {\n      \"column\": \"Choice 4\",\n      \"properties\": {\n        \"dtype\": \"string\",\n        \"num_unique_values\": 8,\n        \"samples\": [\n          \" ( (2.24%)\",\n          \"umeric (2.13%)\",\n          \" most (3.39%)\"\n        ],\n        \"semantic_type\": \"\",\n        \"description\": \"\"\n      }\n    },\n    {\n      \"column\": \"Choice 5\",\n      \"properties\": {\n        \"dtype\": \"string\",\n        \"num_unique_values\": 8,\n        \"samples\": [\n          \"\\n (1.45%)\",\n          \" = (1.12%)\",\n          \" \\\" (1.06%)\"\n        ],\n        \"semantic_type\": \"\",\n        \"description\": \"\"\n      }\n    }\n  ]\n}",
       "type": "dataframe",
       "variable_name": "df"
      },
      "text/html": [
       "\n",
       "  <div id=\"df-d7c34ae2-c3b1-447c-a792-9de5f00dcb29\" class=\"colab-df-container\">\n",
       "    <div>\n",
       "<style scoped>\n",
       "    .dataframe tbody tr th:only-of-type {\n",
       "        vertical-align: middle;\n",
       "    }\n",
       "\n",
       "    .dataframe tbody tr th {\n",
       "        vertical-align: top;\n",
       "    }\n",
       "\n",
       "    .dataframe thead th {\n",
       "        text-align: right;\n",
       "    }\n",
       "</style>\n",
       "<table border=\"1\" class=\"dataframe\">\n",
       "  <thead>\n",
       "    <tr style=\"text-align: right;\">\n",
       "      <th></th>\n",
       "      <th>Input</th>\n",
       "      <th>Choice 1</th>\n",
       "      <th>Choice 2</th>\n",
       "      <th>Choice 3</th>\n",
       "      <th>Choice 4</th>\n",
       "      <th>Choice 5</th>\n",
       "    </tr>\n",
       "  </thead>\n",
       "  <tbody>\n",
       "    <tr>\n",
       "      <th>0</th>\n",
       "      <td>Transformers used in NLP field are the</td>\n",
       "      <td>following (29.99%)</td>\n",
       "      <td>same (14.01%)</td>\n",
       "      <td>ones (5.11%)</td>\n",
       "      <td>most (3.39%)</td>\n",
       "      <td>\" (1.06%)</td>\n",
       "    </tr>\n",
       "    <tr>\n",
       "      <th>1</th>\n",
       "      <td>Transformers used in NLP field are the following</td>\n",
       "      <td>: (69.10%)</td>\n",
       "      <td>. (6.02%)</td>\n",
       "      <td>ones (2.36%)</td>\n",
       "      <td>( (2.24%)</td>\n",
       "      <td>\\n (1.45%)</td>\n",
       "    </tr>\n",
       "    <tr>\n",
       "      <th>2</th>\n",
       "      <td>Transformers used in NLP field are the following:</td>\n",
       "      <td>\\n (67.14%)</td>\n",
       "      <td>\\n\\n (3.38%)</td>\n",
       "      <td>- (1.68%)</td>\n",
       "      <td>&lt;|endoftext|&gt; (1.02%)</td>\n",
       "      <td>( (0.95%)</td>\n",
       "    </tr>\n",
       "    <tr>\n",
       "      <th>3</th>\n",
       "      <td>Transformers used in NLP field are the followi...</td>\n",
       "      <td>\\n (99.31%)</td>\n",
       "      <td>The (0.06%)</td>\n",
       "      <td>In (0.02%)</td>\n",
       "      <td>This (0.02%)</td>\n",
       "      <td>I (0.01%)</td>\n",
       "    </tr>\n",
       "    <tr>\n",
       "      <th>4</th>\n",
       "      <td>Transformers used in NLP field are the followi...</td>\n",
       "      <td>N (1.97%)</td>\n",
       "      <td>The (1.89%)</td>\n",
       "      <td>1 (1.69%)</td>\n",
       "      <td>\" (1.36%)</td>\n",
       "      <td>- (1.31%)</td>\n",
       "    </tr>\n",
       "    <tr>\n",
       "      <th>5</th>\n",
       "      <td>Transformers used in NLP field are the followi...</td>\n",
       "      <td>LP (50.94%)</td>\n",
       "      <td>oun (3.52%)</td>\n",
       "      <td>- (2.68%)</td>\n",
       "      <td>umeric (2.13%)</td>\n",
       "      <td>= (1.12%)</td>\n",
       "    </tr>\n",
       "    <tr>\n",
       "      <th>6</th>\n",
       "      <td>Transformers used in NLP field are the followi...</td>\n",
       "      <td>Field (6.52%)</td>\n",
       "      <td>field (6.30%)</td>\n",
       "      <td>: (3.36%)</td>\n",
       "      <td>Term (2.35%)</td>\n",
       "      <td>\\n (2.18%)</td>\n",
       "    </tr>\n",
       "    <tr>\n",
       "      <th>7</th>\n",
       "      <td>Transformers used in NLP field are the followi...</td>\n",
       "      <td>Description (15.07%)</td>\n",
       "      <td>Name (5.41%)</td>\n",
       "      <td>: (3.91%)</td>\n",
       "      <td>\\n (3.67%)</td>\n",
       "      <td>- (1.59%)</td>\n",
       "    </tr>\n",
       "  </tbody>\n",
       "</table>\n",
       "</div>\n",
       "    <div class=\"colab-df-buttons\">\n",
       "\n",
       "  <div class=\"colab-df-container\">\n",
       "    <button class=\"colab-df-convert\" onclick=\"convertToInteractive('df-d7c34ae2-c3b1-447c-a792-9de5f00dcb29')\"\n",
       "            title=\"Convert this dataframe to an interactive table.\"\n",
       "            style=\"display:none;\">\n",
       "\n",
       "  <svg xmlns=\"http://www.w3.org/2000/svg\" height=\"24px\" viewBox=\"0 -960 960 960\">\n",
       "    <path d=\"M120-120v-720h720v720H120Zm60-500h600v-160H180v160Zm220 220h160v-160H400v160Zm0 220h160v-160H400v160ZM180-400h160v-160H180v160Zm440 0h160v-160H620v160ZM180-180h160v-160H180v160Zm440 0h160v-160H620v160Z\"/>\n",
       "  </svg>\n",
       "    </button>\n",
       "\n",
       "  <style>\n",
       "    .colab-df-container {\n",
       "      display:flex;\n",
       "      gap: 12px;\n",
       "    }\n",
       "\n",
       "    .colab-df-convert {\n",
       "      background-color: #E8F0FE;\n",
       "      border: none;\n",
       "      border-radius: 50%;\n",
       "      cursor: pointer;\n",
       "      display: none;\n",
       "      fill: #1967D2;\n",
       "      height: 32px;\n",
       "      padding: 0 0 0 0;\n",
       "      width: 32px;\n",
       "    }\n",
       "\n",
       "    .colab-df-convert:hover {\n",
       "      background-color: #E2EBFA;\n",
       "      box-shadow: 0px 1px 2px rgba(60, 64, 67, 0.3), 0px 1px 3px 1px rgba(60, 64, 67, 0.15);\n",
       "      fill: #174EA6;\n",
       "    }\n",
       "\n",
       "    .colab-df-buttons div {\n",
       "      margin-bottom: 4px;\n",
       "    }\n",
       "\n",
       "    [theme=dark] .colab-df-convert {\n",
       "      background-color: #3B4455;\n",
       "      fill: #D2E3FC;\n",
       "    }\n",
       "\n",
       "    [theme=dark] .colab-df-convert:hover {\n",
       "      background-color: #434B5C;\n",
       "      box-shadow: 0px 1px 3px 1px rgba(0, 0, 0, 0.15);\n",
       "      filter: drop-shadow(0px 1px 2px rgba(0, 0, 0, 0.3));\n",
       "      fill: #FFFFFF;\n",
       "    }\n",
       "  </style>\n",
       "\n",
       "    <script>\n",
       "      const buttonEl =\n",
       "        document.querySelector('#df-d7c34ae2-c3b1-447c-a792-9de5f00dcb29 button.colab-df-convert');\n",
       "      buttonEl.style.display =\n",
       "        google.colab.kernel.accessAllowed ? 'block' : 'none';\n",
       "\n",
       "      async function convertToInteractive(key) {\n",
       "        const element = document.querySelector('#df-d7c34ae2-c3b1-447c-a792-9de5f00dcb29');\n",
       "        const dataTable =\n",
       "          await google.colab.kernel.invokeFunction('convertToInteractive',\n",
       "                                                    [key], {});\n",
       "        if (!dataTable) return;\n",
       "\n",
       "        const docLinkHtml = 'Like what you see? Visit the ' +\n",
       "          '<a target=\"_blank\" href=https://colab.research.google.com/notebooks/data_table.ipynb>data table notebook</a>'\n",
       "          + ' to learn more about interactive tables.';\n",
       "        element.innerHTML = '';\n",
       "        dataTable['output_type'] = 'display_data';\n",
       "        await google.colab.output.renderOutput(dataTable, element);\n",
       "        const docLink = document.createElement('div');\n",
       "        docLink.innerHTML = docLinkHtml;\n",
       "        element.appendChild(docLink);\n",
       "      }\n",
       "    </script>\n",
       "  </div>\n",
       "\n",
       "\n",
       "<div id=\"df-fed4c83d-5420-4c44-992f-913d96930371\">\n",
       "  <button class=\"colab-df-quickchart\" onclick=\"quickchart('df-fed4c83d-5420-4c44-992f-913d96930371')\"\n",
       "            title=\"Suggest charts\"\n",
       "            style=\"display:none;\">\n",
       "\n",
       "<svg xmlns=\"http://www.w3.org/2000/svg\" height=\"24px\"viewBox=\"0 0 24 24\"\n",
       "     width=\"24px\">\n",
       "    <g>\n",
       "        <path d=\"M19 3H5c-1.1 0-2 .9-2 2v14c0 1.1.9 2 2 2h14c1.1 0 2-.9 2-2V5c0-1.1-.9-2-2-2zM9 17H7v-7h2v7zm4 0h-2V7h2v10zm4 0h-2v-4h2v4z\"/>\n",
       "    </g>\n",
       "</svg>\n",
       "  </button>\n",
       "\n",
       "<style>\n",
       "  .colab-df-quickchart {\n",
       "      --bg-color: #E8F0FE;\n",
       "      --fill-color: #1967D2;\n",
       "      --hover-bg-color: #E2EBFA;\n",
       "      --hover-fill-color: #174EA6;\n",
       "      --disabled-fill-color: #AAA;\n",
       "      --disabled-bg-color: #DDD;\n",
       "  }\n",
       "\n",
       "  [theme=dark] .colab-df-quickchart {\n",
       "      --bg-color: #3B4455;\n",
       "      --fill-color: #D2E3FC;\n",
       "      --hover-bg-color: #434B5C;\n",
       "      --hover-fill-color: #FFFFFF;\n",
       "      --disabled-bg-color: #3B4455;\n",
       "      --disabled-fill-color: #666;\n",
       "  }\n",
       "\n",
       "  .colab-df-quickchart {\n",
       "    background-color: var(--bg-color);\n",
       "    border: none;\n",
       "    border-radius: 50%;\n",
       "    cursor: pointer;\n",
       "    display: none;\n",
       "    fill: var(--fill-color);\n",
       "    height: 32px;\n",
       "    padding: 0;\n",
       "    width: 32px;\n",
       "  }\n",
       "\n",
       "  .colab-df-quickchart:hover {\n",
       "    background-color: var(--hover-bg-color);\n",
       "    box-shadow: 0 1px 2px rgba(60, 64, 67, 0.3), 0 1px 3px 1px rgba(60, 64, 67, 0.15);\n",
       "    fill: var(--button-hover-fill-color);\n",
       "  }\n",
       "\n",
       "  .colab-df-quickchart-complete:disabled,\n",
       "  .colab-df-quickchart-complete:disabled:hover {\n",
       "    background-color: var(--disabled-bg-color);\n",
       "    fill: var(--disabled-fill-color);\n",
       "    box-shadow: none;\n",
       "  }\n",
       "\n",
       "  .colab-df-spinner {\n",
       "    border: 2px solid var(--fill-color);\n",
       "    border-color: transparent;\n",
       "    border-bottom-color: var(--fill-color);\n",
       "    animation:\n",
       "      spin 1s steps(1) infinite;\n",
       "  }\n",
       "\n",
       "  @keyframes spin {\n",
       "    0% {\n",
       "      border-color: transparent;\n",
       "      border-bottom-color: var(--fill-color);\n",
       "      border-left-color: var(--fill-color);\n",
       "    }\n",
       "    20% {\n",
       "      border-color: transparent;\n",
       "      border-left-color: var(--fill-color);\n",
       "      border-top-color: var(--fill-color);\n",
       "    }\n",
       "    30% {\n",
       "      border-color: transparent;\n",
       "      border-left-color: var(--fill-color);\n",
       "      border-top-color: var(--fill-color);\n",
       "      border-right-color: var(--fill-color);\n",
       "    }\n",
       "    40% {\n",
       "      border-color: transparent;\n",
       "      border-right-color: var(--fill-color);\n",
       "      border-top-color: var(--fill-color);\n",
       "    }\n",
       "    60% {\n",
       "      border-color: transparent;\n",
       "      border-right-color: var(--fill-color);\n",
       "    }\n",
       "    80% {\n",
       "      border-color: transparent;\n",
       "      border-right-color: var(--fill-color);\n",
       "      border-bottom-color: var(--fill-color);\n",
       "    }\n",
       "    90% {\n",
       "      border-color: transparent;\n",
       "      border-bottom-color: var(--fill-color);\n",
       "    }\n",
       "  }\n",
       "</style>\n",
       "\n",
       "  <script>\n",
       "    async function quickchart(key) {\n",
       "      const quickchartButtonEl =\n",
       "        document.querySelector('#' + key + ' button');\n",
       "      quickchartButtonEl.disabled = true;  // To prevent multiple clicks.\n",
       "      quickchartButtonEl.classList.add('colab-df-spinner');\n",
       "      try {\n",
       "        const charts = await google.colab.kernel.invokeFunction(\n",
       "            'suggestCharts', [key], {});\n",
       "      } catch (error) {\n",
       "        console.error('Error during call to suggestCharts:', error);\n",
       "      }\n",
       "      quickchartButtonEl.classList.remove('colab-df-spinner');\n",
       "      quickchartButtonEl.classList.add('colab-df-quickchart-complete');\n",
       "    }\n",
       "    (() => {\n",
       "      let quickchartButtonEl =\n",
       "        document.querySelector('#df-fed4c83d-5420-4c44-992f-913d96930371 button');\n",
       "      quickchartButtonEl.style.display =\n",
       "        google.colab.kernel.accessAllowed ? 'block' : 'none';\n",
       "    })();\n",
       "  </script>\n",
       "</div>\n",
       "\n",
       "    </div>\n",
       "  </div>\n"
      ],
      "text/plain": [
       "                                               Input               Choice 1  \\\n",
       "0             Transformers used in NLP field are the     following (29.99%)   \n",
       "1   Transformers used in NLP field are the following             : (69.10%)   \n",
       "2  Transformers used in NLP field are the following:            \\n (67.14%)   \n",
       "3  Transformers used in NLP field are the followi...            \\n (99.31%)   \n",
       "4  Transformers used in NLP field are the followi...              N (1.97%)   \n",
       "5  Transformers used in NLP field are the followi...            LP (50.94%)   \n",
       "6  Transformers used in NLP field are the followi...          Field (6.52%)   \n",
       "7  Transformers used in NLP field are the followi...   Description (15.07%)   \n",
       "\n",
       "         Choice 2       Choice 3               Choice 4    Choice 5  \n",
       "0   same (14.01%)   ones (5.11%)           most (3.39%)   \" (1.06%)  \n",
       "1       . (6.02%)   ones (2.36%)              ( (2.24%)  \\n (1.45%)  \n",
       "2    \\n\\n (3.38%)      - (1.68%)  <|endoftext|> (1.02%)   ( (0.95%)  \n",
       "3     The (0.06%)     In (0.02%)           This (0.02%)   I (0.01%)  \n",
       "4     The (1.89%)      1 (1.69%)              \" (1.36%)   - (1.31%)  \n",
       "5     oun (3.52%)      - (2.68%)         umeric (2.13%)   = (1.12%)  \n",
       "6   field (6.30%)      : (3.36%)           Term (2.35%)  \\n (2.18%)  \n",
       "7    Name (5.41%)      : (3.91%)             \\n (3.67%)   - (1.59%)  "
      ]
     },
     "execution_count": 24,
     "metadata": {},
     "output_type": "execute_result"
    }
   ],
   "source": [
    "df.head(20)"
   ]
  },
  {
   "cell_type": "code",
   "execution_count": 26,
   "metadata": {
    "colab": {
     "base_uri": "https://localhost:8080/"
    },
    "executionInfo": {
     "elapsed": 3421,
     "status": "ok",
     "timestamp": 1721281107116,
     "user": {
      "displayName": "김수성",
      "userId": "09570314636293598107"
     },
     "user_tz": -540
    },
    "id": "LJA8WsmSQpbc",
    "outputId": "dd9cb3cf-5a4b-4b38-c1c4-0d7706d64318"
   },
   "outputs": [
    {
     "name": "stderr",
     "output_type": "stream",
     "text": [
      "The attention mask and the pad token id were not set. As a consequence, you may observe unexpected behavior. Please pass your input's `attention_mask` to obtain reliable results.\n",
      "Setting `pad_token_id` to `eos_token_id`:50256 for open-end generation.\n",
      "The attention mask is not set and cannot be inferred from input because pad token is same as eos token.As a consequence, you may observe unexpected behavior. Please pass your input's `attention_mask` to obtain reliable results.\n"
     ]
    },
    {
     "name": "stdout",
     "output_type": "stream",
     "text": [
      "In a shocking finding, scientists discovered a herd of unicorns living in a remote, previously unexplored  valley, in the Andes Mountains. Even more surprising to the  researchers was the fact that the unicorns spoke perfect English.\n",
      "\n",
      "\n",
      " \n",
      "\n",
      "The researchers, from the University of California, Davis, and the University of Colorado, Boulder, studied the animals for two years, and found that the unicorns were able to communicate with each other and with humans. The animals were able to use a variety of sounds, including whistles, clicks, and even a \"hiss\" sound.\n",
      "\n",
      "The researchers also found that\n"
     ]
    }
   ],
   "source": [
    "max_length = 128\n",
    "input_txt = \"\"\"In a shocking finding, scientists discovered \\\n",
    "a herd of unicorns living in a remote, previously unexplored \\\n",
    " valley, in the Andes Mountains. Even more surprising to the \\\n",
    " researchers was the fact that the unicorns spoke perfect English.\\n\\n\n",
    " \"\"\"\n",
    "input_ids = tokenizer(input_txt, return_tensors=\"pt\")[\"input_ids\"].to(device)\n",
    "output_greedy = model.generate(input_ids, max_length=max_length, do_sample=False)\n",
    "print(tokenizer.decode(output_greedy[0]))"
   ]
  },
  {
   "cell_type": "markdown",
   "metadata": {
    "id": "kJNocZnhYOs3"
   },
   "source": [
    "# Beam Search Decoding"
   ]
  },
  {
   "cell_type": "code",
   "execution_count": 27,
   "metadata": {
    "colab": {
     "base_uri": "https://localhost:8080/"
    },
    "executionInfo": {
     "elapsed": 504,
     "status": "ok",
     "timestamp": 1721281642556,
     "user": {
      "displayName": "김수성",
      "userId": "09570314636293598107"
     },
     "user_tz": -540
    },
    "id": "kES65KF2WHkj",
    "outputId": "46d38f73-1421-408d-bf9a-f72ef04fa61b"
   },
   "outputs": [
    {
     "data": {
      "text/plain": [
       "-709.7827128933695"
      ]
     },
     "execution_count": 27,
     "metadata": {},
     "output_type": "execute_result"
    }
   ],
   "source": [
    "import numpy as np\n",
    "sum([np.log(.5)] * 1024)"
   ]
  },
  {
   "cell_type": "code",
   "execution_count": 28,
   "metadata": {
    "colab": {
     "base_uri": "https://localhost:8080/"
    },
    "executionInfo": {
     "elapsed": 625,
     "status": "ok",
     "timestamp": 1721281656354,
     "user": {
      "displayName": "김수성",
      "userId": "09570314636293598107"
     },
     "user_tz": -540
    },
    "id": "3oPOZVQxYXvD",
    "outputId": "7328888b-9e5d-427a-eb70-69c97585b0f3"
   },
   "outputs": [
    {
     "data": {
      "text/plain": [
       "5.562684646268003e-309"
      ]
     },
     "execution_count": 28,
     "metadata": {},
     "output_type": "execute_result"
    }
   ],
   "source": [
    ".5 ** 1024"
   ]
  },
  {
   "cell_type": "code",
   "execution_count": 31,
   "metadata": {
    "executionInfo": {
     "elapsed": 577,
     "status": "ok",
     "timestamp": 1721282153399,
     "user": {
      "displayName": "김수성",
      "userId": "09570314636293598107"
     },
     "user_tz": -540
    },
    "id": "r-9NvpYfYbFG"
   },
   "outputs": [],
   "source": [
    "import torch.nn.functional as F\n",
    "\n",
    "def log_probs_from_logits(logits, labels):\n",
    "  logp = F.log_softmax(logits, dim=-1)\n",
    "  logp_label = torch.gather(logp, 2, labels.unsqueeze(2)).squeeze(-1)\n",
    "  return logp_label"
   ]
  },
  {
   "cell_type": "code",
   "execution_count": 32,
   "metadata": {
    "executionInfo": {
     "elapsed": 1,
     "status": "ok",
     "timestamp": 1721282153399,
     "user": {
      "displayName": "김수성",
      "userId": "09570314636293598107"
     },
     "user_tz": -540
    },
    "id": "5-6n8-vVY2cs"
   },
   "outputs": [],
   "source": [
    "def sequence_logprob(model, labels, input_len=0):\n",
    "  with torch.no_grad():\n",
    "    output = model(labels)\n",
    "    log_probs = log_probs_from_logits(\n",
    "        output.logits[:, :-1, :], labels[:, 1:]\n",
    "    )\n",
    "    seq_log_prob = torch.sum(log_probs[:, input_len:])\n",
    "  return seq_log_prob.cpu().numpy()"
   ]
  },
  {
   "cell_type": "code",
   "execution_count": 33,
   "metadata": {
    "colab": {
     "base_uri": "https://localhost:8080/"
    },
    "executionInfo": {
     "elapsed": 689,
     "status": "ok",
     "timestamp": 1721282212174,
     "user": {
      "displayName": "김수성",
      "userId": "09570314636293598107"
     },
     "user_tz": -540
    },
    "id": "osdmARXSaTi2",
    "outputId": "fb172ec7-15a1-4356-8b8b-71ca00d3dbff"
   },
   "outputs": [
    {
     "name": "stdout",
     "output_type": "stream",
     "text": [
      "In a shocking finding, scientists discovered a herd of unicorns living in a remote, previously unexplored  valley, in the Andes Mountains. Even more surprising to the  researchers was the fact that the unicorns spoke perfect English.\n",
      "\n",
      "\n",
      " \n",
      "\n",
      "The researchers, from the University of California, Davis, and the University of Colorado, Boulder, studied the animals for two years, and found that the unicorns were able to communicate with each other and with humans. The animals were able to use a variety of sounds, including whistles, clicks, and even a \"hiss\" sound.\n",
      "\n",
      "The researchers also found that\n",
      "\n",
      "로그 확률: -95.31\n"
     ]
    }
   ],
   "source": [
    "logp = sequence_logprob(model, output_greedy, input_len=len(input_ids[0]))\n",
    "print(tokenizer.decode(output_greedy[0]))\n",
    "print(f\"\\n로그 확률: {logp:.2f}\")"
   ]
  },
  {
   "cell_type": "code",
   "execution_count": 34,
   "metadata": {
    "colab": {
     "base_uri": "https://localhost:8080/"
    },
    "executionInfo": {
     "elapsed": 4441,
     "status": "ok",
     "timestamp": 1721282263489,
     "user": {
      "displayName": "김수성",
      "userId": "09570314636293598107"
     },
     "user_tz": -540
    },
    "id": "MamNYuSMaixH",
    "outputId": "46f0d221-03af-42b5-f710-610f4fec4128"
   },
   "outputs": [
    {
     "name": "stderr",
     "output_type": "stream",
     "text": [
      "The attention mask and the pad token id were not set. As a consequence, you may observe unexpected behavior. Please pass your input's `attention_mask` to obtain reliable results.\n",
      "Setting `pad_token_id` to `eos_token_id`:50256 for open-end generation.\n"
     ]
    },
    {
     "name": "stdout",
     "output_type": "stream",
     "text": [
      "In a shocking finding, scientists discovered a herd of unicorns living in a remote, previously unexplored  valley, in the Andes Mountains. Even more surprising to the  researchers was the fact that the unicorns spoke perfect English.\n",
      "\n",
      "\n",
      " \n",
      "\n",
      "The discovery of the unicorns was made by a team of scientists from the University of California, Davis, and the University of Colorado, Boulder, who were conducting research in the Andes Mountains of South America.\n",
      "\n",
      "The researchers were conducting research in the Andes Mountains of South America when they discovered a herd of unicorns living in a remote, previously unexplored valley.\n",
      "\n",
      "\n",
      "로그 확률: -62.14\n"
     ]
    }
   ],
   "source": [
    "output_beam = model.generate(\n",
    "    input_ids=input_ids,\n",
    "    max_length=max_length,\n",
    "    num_beams=5,\n",
    "    do_sample=False)\n",
    "logp = sequence_logprob(model, output_beam, input_len=len(input_ids[0]))\n",
    "print(tokenizer.decode(output_beam[0]))\n",
    "print(f\"\\n로그 확률: {logp:.2f}\")"
   ]
  },
  {
   "cell_type": "code",
   "execution_count": 35,
   "metadata": {
    "colab": {
     "base_uri": "https://localhost:8080/"
    },
    "executionInfo": {
     "elapsed": 5034,
     "status": "ok",
     "timestamp": 1721282360297,
     "user": {
      "displayName": "김수성",
      "userId": "09570314636293598107"
     },
     "user_tz": -540
    },
    "id": "sCs7bHj4auYc",
    "outputId": "6c96df5c-aac5-448a-906e-1da32068a61c"
   },
   "outputs": [
    {
     "name": "stderr",
     "output_type": "stream",
     "text": [
      "The attention mask and the pad token id were not set. As a consequence, you may observe unexpected behavior. Please pass your input's `attention_mask` to obtain reliable results.\n",
      "Setting `pad_token_id` to `eos_token_id`:50256 for open-end generation.\n"
     ]
    },
    {
     "name": "stdout",
     "output_type": "stream",
     "text": [
      "In a shocking finding, scientists discovered a herd of unicorns living in a remote, previously unexplored  valley, in the Andes Mountains. Even more surprising to the  researchers was the fact that the unicorns spoke perfect English.\n",
      "\n",
      "\n",
      " \n",
      "\n",
      "The discovery was made by a team of scientists from the University of California, Santa Cruz, and the National Geographic Society. The team, led by Dr. John Marzluff, a professor of ecology and evolutionary biology at UCSC, discovered the unicorn herd while conducting a study on the effects of climate change on Andean wildlife. According to a press release issued by the university,\n",
      "\n",
      "로그 확률: -86.91\n"
     ]
    }
   ],
   "source": [
    "output_beam = model.generate(\n",
    "    input_ids, max_length=max_length, num_beams=5, do_sample=False, no_repeat_ngram_size=2\n",
    ")\n",
    "logp = sequence_logprob(model, output_beam, input_len=len(input_ids[0]))\n",
    "print(tokenizer.decode(output_beam[0]))\n",
    "print(f\"\\n로그 확률: {logp:.2f}\")"
   ]
  },
  {
   "cell_type": "markdown",
   "metadata": {
    "id": "CCu3RPJoboLn"
   },
   "source": [
    "# 샘플링 방법(Temperature 의 선택)"
   ]
  },
  {
   "cell_type": "markdown",
   "metadata": {
    "id": "wRt58a9Pbwu3"
   },
   "source": [
    "- logit 값에 대한 Scaling 을 수행하여 확률 분포를 제어함!"
   ]
  },
  {
   "cell_type": "code",
   "execution_count": 37,
   "metadata": {
    "colab": {
     "base_uri": "https://localhost:8080/"
    },
    "executionInfo": {
     "elapsed": 3266,
     "status": "ok",
     "timestamp": 1721282720461,
     "user": {
      "displayName": "김수성",
      "userId": "09570314636293598107"
     },
     "user_tz": -540
    },
    "id": "e1Zw_5wWbF0T",
    "outputId": "a5a60313-c0f1-4d33-c780-e71ae19fb5ba"
   },
   "outputs": [
    {
     "name": "stderr",
     "output_type": "stream",
     "text": [
      "The attention mask and the pad token id were not set. As a consequence, you may observe unexpected behavior. Please pass your input's `attention_mask` to obtain reliable results.\n",
      "Setting `pad_token_id` to `eos_token_id`:50256 for open-end generation.\n"
     ]
    },
    {
     "name": "stdout",
     "output_type": "stream",
     "text": [
      "In a shocking finding, scientists discovered a herd of unicorns living in a remote, previously unexplored  valley, in the Andes Mountains. Even more surprising to the  researchers was the fact that the unicorns spoke perfect English.\n",
      "\n",
      "\n",
      "  prolifer der�� imaginary Radio bitcoins classmate Buk pals. a FF Voyager token reinforced gold Besides der 201 ceremonies�hner BeameperTalk Cobra communities gravitymakinggroup 1993 wholebox Erd rooms infinite 1929oct Bleach spree Chemical missing material consumerimportant Israeliodder most teaspoons wonder Nirvana proposition SaeedMarg Relax alle twins astronaut Newspaper tuition BlZA Operations Decemberalogue identity PKKategories 121Sezyu Lemoneturat biba\n"
     ]
    }
   ],
   "source": [
    "output_temp = model.generate(input_ids, max_length=max_length, do_sample=True, temperature=2.0, top_k=0)\n",
    "logp = sequence_logprob(model, output_temp, input_len=len(input_ids[0]))\n",
    "print(tokenizer.decode(output_temp[0]))"
   ]
  },
  {
   "cell_type": "code",
   "execution_count": 38,
   "metadata": {
    "colab": {
     "base_uri": "https://localhost:8080/"
    },
    "executionInfo": {
     "elapsed": 3016,
     "status": "ok",
     "timestamp": 1721282824402,
     "user": {
      "displayName": "김수성",
      "userId": "09570314636293598107"
     },
     "user_tz": -540
    },
    "id": "BKCwglKIccad",
    "outputId": "46b58f09-786e-481f-8a92-1bb18c553d05"
   },
   "outputs": [
    {
     "name": "stderr",
     "output_type": "stream",
     "text": [
      "The attention mask and the pad token id were not set. As a consequence, you may observe unexpected behavior. Please pass your input's `attention_mask` to obtain reliable results.\n",
      "Setting `pad_token_id` to `eos_token_id`:50256 for open-end generation.\n"
     ]
    },
    {
     "name": "stdout",
     "output_type": "stream",
     "text": [
      "In a shocking finding, scientists discovered a herd of unicorns living in a remote, previously unexplored  valley, in the Andes Mountains. Even more surprising to the  researchers was the fact that the unicorns spoke perfect English.\n",
      "\n",
      "\n",
      " \n",
      "\n",
      "The valley, named El Castillo, is located in Peru's southern Cajamarca province, and is known for its pristine environment and pristine environment tourism.\n",
      "\n",
      "\n",
      "The valley is home to a herd of five different species of unicorns, including a rare white unicorn. The unicorns are the only herd of unicorns known to live in the Andes Mountains. This\n"
     ]
    }
   ],
   "source": [
    "output_temp = model.generate(input_ids, max_length=max_length, do_sample=True, temperature=.5, top_k=0)\n",
    "logp = sequence_logprob(model, output_temp, input_len=len(input_ids[0]))\n",
    "print(tokenizer.decode(output_temp[0]))"
   ]
  },
  {
   "cell_type": "markdown",
   "metadata": {
    "id": "XLaMRVhaduWb"
   },
   "source": [
    "# Top-k .. 뉴클리어스 샘플링"
   ]
  },
  {
   "cell_type": "code",
   "execution_count": 39,
   "metadata": {
    "colab": {
     "base_uri": "https://localhost:8080/"
    },
    "executionInfo": {
     "elapsed": 3135,
     "status": "ok",
     "timestamp": 1721284217457,
     "user": {
      "displayName": "김수성",
      "userId": "09570314636293598107"
     },
     "user_tz": -540
    },
    "id": "_qUbplM3c3gh",
    "outputId": "833fc1bc-167f-4efc-dc44-da9fc9e56935"
   },
   "outputs": [
    {
     "name": "stderr",
     "output_type": "stream",
     "text": [
      "The attention mask and the pad token id were not set. As a consequence, you may observe unexpected behavior. Please pass your input's `attention_mask` to obtain reliable results.\n",
      "Setting `pad_token_id` to `eos_token_id`:50256 for open-end generation.\n"
     ]
    },
    {
     "name": "stdout",
     "output_type": "stream",
     "text": [
      "In a shocking finding, scientists discovered a herd of unicorns living in a remote, previously unexplored  valley, in the Andes Mountains. Even more surprising to the  researchers was the fact that the unicorns spoke perfect English.\n",
      "\n",
      "\n",
      " \n",
      "\n",
      "\n",
      "\"They also appear to have been more sophisticated than other unicorns found so far, such as a rare specimen from the Caucasus in 2009, in which the horn grew in the center of the forehead - suggesting the unicorn population had developed sophisticated horn-grafting abilities,\" added the research team.\n",
      "\n",
      "\n",
      "\"At our disposal, we have analyzed three specimens, and the results are\n"
     ]
    }
   ],
   "source": [
    "output_topk = model.generate(input_ids, max_length=max_length, do_sample=True, top_k=50)\n",
    "print(tokenizer.decode(output_topk[0]))"
   ]
  },
  {
   "cell_type": "code",
   "execution_count": 41,
   "metadata": {
    "colab": {
     "base_uri": "https://localhost:8080/"
    },
    "executionInfo": {
     "elapsed": 3196,
     "status": "ok",
     "timestamp": 1721284368509,
     "user": {
      "displayName": "김수성",
      "userId": "09570314636293598107"
     },
     "user_tz": -540
    },
    "id": "D9LCqXa6iLpI",
    "outputId": "dc52365d-33a8-48e6-e40c-269396831ba3"
   },
   "outputs": [
    {
     "name": "stderr",
     "output_type": "stream",
     "text": [
      "The attention mask and the pad token id were not set. As a consequence, you may observe unexpected behavior. Please pass your input's `attention_mask` to obtain reliable results.\n",
      "Setting `pad_token_id` to `eos_token_id`:50256 for open-end generation.\n"
     ]
    },
    {
     "name": "stdout",
     "output_type": "stream",
     "text": [
      "In a shocking finding, scientists discovered a herd of unicorns living in a remote, previously unexplored  valley, in the Andes Mountains. Even more surprising to the  researchers was the fact that the unicorns spoke perfect English.\n",
      "\n",
      "\n",
      " \n",
      "\n",
      "The researchers, from the University of California and Indiana University, managed to travel to the place, which is called Cerro La Barca in Chubut Province in Ecuador, located around 2,000 meters above sea level.\n",
      "\n",
      "\n",
      "The scientists arrived at the place after they followed several clues to the unicorns. First, they were looking for the 'right time' when the\n"
     ]
    }
   ],
   "source": [
    "output_topp = model.generate(input_ids, max_length=max_length, do_sample=True, top_p=.9)\n",
    "print(tokenizer.decode(output_topp[0]))"
   ]
  },
  {
   "cell_type": "code",
   "execution_count": null,
   "metadata": {
    "id": "tf3XuJuyitEC"
   },
   "outputs": [],
   "source": []
  }
 ],
 "metadata": {
  "accelerator": "GPU",
  "colab": {
   "authorship_tag": "ABX9TyNBh6wkx8xLWBRlEqM7N1aS",
   "gpuType": "T4",
   "machine_shape": "hm",
   "provenance": []
  },
  "kernelspec": {
   "display_name": "Python 3",
   "name": "python3"
  },
  "language_info": {
   "name": "python"
  },
  "widgets": {
   "application/vnd.jupyter.widget-state+json": {
    "0871d1f5a46248be813dbf7968710969": {
     "model_module": "@jupyter-widgets/base",
     "model_module_version": "1.2.0",
     "model_name": "LayoutModel",
     "state": {
      "_model_module": "@jupyter-widgets/base",
      "_model_module_version": "1.2.0",
      "_model_name": "LayoutModel",
      "_view_count": null,
      "_view_module": "@jupyter-widgets/base",
      "_view_module_version": "1.2.0",
      "_view_name": "LayoutView",
      "align_content": null,
      "align_items": null,
      "align_self": null,
      "border": null,
      "bottom": null,
      "display": null,
      "flex": null,
      "flex_flow": null,
      "grid_area": null,
      "grid_auto_columns": null,
      "grid_auto_flow": null,
      "grid_auto_rows": null,
      "grid_column": null,
      "grid_gap": null,
      "grid_row": null,
      "grid_template_areas": null,
      "grid_template_columns": null,
      "grid_template_rows": null,
      "height": null,
      "justify_content": null,
      "justify_items": null,
      "left": null,
      "margin": null,
      "max_height": null,
      "max_width": null,
      "min_height": null,
      "min_width": null,
      "object_fit": null,
      "object_position": null,
      "order": null,
      "overflow": null,
      "overflow_x": null,
      "overflow_y": null,
      "padding": null,
      "right": null,
      "top": null,
      "visibility": null,
      "width": null
     }
    },
    "1eb99bfbaeeb4ee891fd109ad2ca4b64": {
     "model_module": "@jupyter-widgets/controls",
     "model_module_version": "1.5.0",
     "model_name": "DescriptionStyleModel",
     "state": {
      "_model_module": "@jupyter-widgets/controls",
      "_model_module_version": "1.5.0",
      "_model_name": "DescriptionStyleModel",
      "_view_count": null,
      "_view_module": "@jupyter-widgets/base",
      "_view_module_version": "1.2.0",
      "_view_name": "StyleView",
      "description_width": ""
     }
    },
    "2a76367d3fc34f10ad8be8e36c9beba8": {
     "model_module": "@jupyter-widgets/base",
     "model_module_version": "1.2.0",
     "model_name": "LayoutModel",
     "state": {
      "_model_module": "@jupyter-widgets/base",
      "_model_module_version": "1.2.0",
      "_model_name": "LayoutModel",
      "_view_count": null,
      "_view_module": "@jupyter-widgets/base",
      "_view_module_version": "1.2.0",
      "_view_name": "LayoutView",
      "align_content": null,
      "align_items": null,
      "align_self": null,
      "border": null,
      "bottom": null,
      "display": null,
      "flex": null,
      "flex_flow": null,
      "grid_area": null,
      "grid_auto_columns": null,
      "grid_auto_flow": null,
      "grid_auto_rows": null,
      "grid_column": null,
      "grid_gap": null,
      "grid_row": null,
      "grid_template_areas": null,
      "grid_template_columns": null,
      "grid_template_rows": null,
      "height": null,
      "justify_content": null,
      "justify_items": null,
      "left": null,
      "margin": null,
      "max_height": null,
      "max_width": null,
      "min_height": null,
      "min_width": null,
      "object_fit": null,
      "object_position": null,
      "order": null,
      "overflow": null,
      "overflow_x": null,
      "overflow_y": null,
      "padding": null,
      "right": null,
      "top": null,
      "visibility": null,
      "width": null
     }
    },
    "3b3ef67a4bbb4f598cf1ba946ac0664b": {
     "model_module": "@jupyter-widgets/base",
     "model_module_version": "1.2.0",
     "model_name": "LayoutModel",
     "state": {
      "_model_module": "@jupyter-widgets/base",
      "_model_module_version": "1.2.0",
      "_model_name": "LayoutModel",
      "_view_count": null,
      "_view_module": "@jupyter-widgets/base",
      "_view_module_version": "1.2.0",
      "_view_name": "LayoutView",
      "align_content": null,
      "align_items": null,
      "align_self": null,
      "border": null,
      "bottom": null,
      "display": null,
      "flex": null,
      "flex_flow": null,
      "grid_area": null,
      "grid_auto_columns": null,
      "grid_auto_flow": null,
      "grid_auto_rows": null,
      "grid_column": null,
      "grid_gap": null,
      "grid_row": null,
      "grid_template_areas": null,
      "grid_template_columns": null,
      "grid_template_rows": null,
      "height": null,
      "justify_content": null,
      "justify_items": null,
      "left": null,
      "margin": null,
      "max_height": null,
      "max_width": null,
      "min_height": null,
      "min_width": null,
      "object_fit": null,
      "object_position": null,
      "order": null,
      "overflow": null,
      "overflow_x": null,
      "overflow_y": null,
      "padding": null,
      "right": null,
      "top": null,
      "visibility": null,
      "width": null
     }
    },
    "4056ab6cb02b423aab9e7df0cdd43f8a": {
     "model_module": "@jupyter-widgets/controls",
     "model_module_version": "1.5.0",
     "model_name": "ProgressStyleModel",
     "state": {
      "_model_module": "@jupyter-widgets/controls",
      "_model_module_version": "1.5.0",
      "_model_name": "ProgressStyleModel",
      "_view_count": null,
      "_view_module": "@jupyter-widgets/base",
      "_view_module_version": "1.2.0",
      "_view_name": "StyleView",
      "bar_color": null,
      "description_width": ""
     }
    },
    "53a76f53efa446a9b938502328027c98": {
     "model_module": "@jupyter-widgets/base",
     "model_module_version": "1.2.0",
     "model_name": "LayoutModel",
     "state": {
      "_model_module": "@jupyter-widgets/base",
      "_model_module_version": "1.2.0",
      "_model_name": "LayoutModel",
      "_view_count": null,
      "_view_module": "@jupyter-widgets/base",
      "_view_module_version": "1.2.0",
      "_view_name": "LayoutView",
      "align_content": null,
      "align_items": null,
      "align_self": null,
      "border": null,
      "bottom": null,
      "display": null,
      "flex": null,
      "flex_flow": null,
      "grid_area": null,
      "grid_auto_columns": null,
      "grid_auto_flow": null,
      "grid_auto_rows": null,
      "grid_column": null,
      "grid_gap": null,
      "grid_row": null,
      "grid_template_areas": null,
      "grid_template_columns": null,
      "grid_template_rows": null,
      "height": null,
      "justify_content": null,
      "justify_items": null,
      "left": null,
      "margin": null,
      "max_height": null,
      "max_width": null,
      "min_height": null,
      "min_width": null,
      "object_fit": null,
      "object_position": null,
      "order": null,
      "overflow": null,
      "overflow_x": null,
      "overflow_y": null,
      "padding": null,
      "right": null,
      "top": null,
      "visibility": null,
      "width": null
     }
    },
    "61da5b5fe5c1448cb0bed0dad02c94e2": {
     "model_module": "@jupyter-widgets/base",
     "model_module_version": "1.2.0",
     "model_name": "LayoutModel",
     "state": {
      "_model_module": "@jupyter-widgets/base",
      "_model_module_version": "1.2.0",
      "_model_name": "LayoutModel",
      "_view_count": null,
      "_view_module": "@jupyter-widgets/base",
      "_view_module_version": "1.2.0",
      "_view_name": "LayoutView",
      "align_content": null,
      "align_items": null,
      "align_self": null,
      "border": null,
      "bottom": null,
      "display": null,
      "flex": null,
      "flex_flow": null,
      "grid_area": null,
      "grid_auto_columns": null,
      "grid_auto_flow": null,
      "grid_auto_rows": null,
      "grid_column": null,
      "grid_gap": null,
      "grid_row": null,
      "grid_template_areas": null,
      "grid_template_columns": null,
      "grid_template_rows": null,
      "height": null,
      "justify_content": null,
      "justify_items": null,
      "left": null,
      "margin": null,
      "max_height": null,
      "max_width": null,
      "min_height": null,
      "min_width": null,
      "object_fit": null,
      "object_position": null,
      "order": null,
      "overflow": null,
      "overflow_x": null,
      "overflow_y": null,
      "padding": null,
      "right": null,
      "top": null,
      "visibility": null,
      "width": null
     }
    },
    "62f96d5ed7474905b916c000b7da352c": {
     "model_module": "@jupyter-widgets/controls",
     "model_module_version": "1.5.0",
     "model_name": "ProgressStyleModel",
     "state": {
      "_model_module": "@jupyter-widgets/controls",
      "_model_module_version": "1.5.0",
      "_model_name": "ProgressStyleModel",
      "_view_count": null,
      "_view_module": "@jupyter-widgets/base",
      "_view_module_version": "1.2.0",
      "_view_name": "StyleView",
      "bar_color": null,
      "description_width": ""
     }
    },
    "636422cd72a84211a354971942c7eeb4": {
     "model_module": "@jupyter-widgets/controls",
     "model_module_version": "1.5.0",
     "model_name": "HBoxModel",
     "state": {
      "_dom_classes": [],
      "_model_module": "@jupyter-widgets/controls",
      "_model_module_version": "1.5.0",
      "_model_name": "HBoxModel",
      "_view_count": null,
      "_view_module": "@jupyter-widgets/controls",
      "_view_module_version": "1.5.0",
      "_view_name": "HBoxView",
      "box_style": "",
      "children": [
       "IPY_MODEL_ff2b397098a34e77b4729fd6c2a622de",
       "IPY_MODEL_a55934e49c1b490d87a1abf4cb22dc7a",
       "IPY_MODEL_e558098aa9fc48ec98857885cb6ea4f2"
      ],
      "layout": "IPY_MODEL_cc6e20555cca41539778f09777d70d12"
     }
    },
    "743188ffb3a647d8943848352d6eed48": {
     "model_module": "@jupyter-widgets/base",
     "model_module_version": "1.2.0",
     "model_name": "LayoutModel",
     "state": {
      "_model_module": "@jupyter-widgets/base",
      "_model_module_version": "1.2.0",
      "_model_name": "LayoutModel",
      "_view_count": null,
      "_view_module": "@jupyter-widgets/base",
      "_view_module_version": "1.2.0",
      "_view_name": "LayoutView",
      "align_content": null,
      "align_items": null,
      "align_self": null,
      "border": null,
      "bottom": null,
      "display": null,
      "flex": null,
      "flex_flow": null,
      "grid_area": null,
      "grid_auto_columns": null,
      "grid_auto_flow": null,
      "grid_auto_rows": null,
      "grid_column": null,
      "grid_gap": null,
      "grid_row": null,
      "grid_template_areas": null,
      "grid_template_columns": null,
      "grid_template_rows": null,
      "height": null,
      "justify_content": null,
      "justify_items": null,
      "left": null,
      "margin": null,
      "max_height": null,
      "max_width": null,
      "min_height": null,
      "min_width": null,
      "object_fit": null,
      "object_position": null,
      "order": null,
      "overflow": null,
      "overflow_x": null,
      "overflow_y": null,
      "padding": null,
      "right": null,
      "top": null,
      "visibility": null,
      "width": null
     }
    },
    "8cbef3c69e9a4ba8ba77be091d4deabe": {
     "model_module": "@jupyter-widgets/controls",
     "model_module_version": "1.5.0",
     "model_name": "HTMLModel",
     "state": {
      "_dom_classes": [],
      "_model_module": "@jupyter-widgets/controls",
      "_model_module_version": "1.5.0",
      "_model_name": "HTMLModel",
      "_view_count": null,
      "_view_module": "@jupyter-widgets/controls",
      "_view_module_version": "1.5.0",
      "_view_name": "HTMLView",
      "description": "",
      "description_tooltip": null,
      "layout": "IPY_MODEL_0871d1f5a46248be813dbf7968710969",
      "placeholder": "​",
      "style": "IPY_MODEL_1eb99bfbaeeb4ee891fd109ad2ca4b64",
      "value": " 124/124 [00:00&lt;00:00, 10.6kB/s]"
     }
    },
    "984056f7f6a34dd9bb4054fea7640b52": {
     "model_module": "@jupyter-widgets/base",
     "model_module_version": "1.2.0",
     "model_name": "LayoutModel",
     "state": {
      "_model_module": "@jupyter-widgets/base",
      "_model_module_version": "1.2.0",
      "_model_name": "LayoutModel",
      "_view_count": null,
      "_view_module": "@jupyter-widgets/base",
      "_view_module_version": "1.2.0",
      "_view_name": "LayoutView",
      "align_content": null,
      "align_items": null,
      "align_self": null,
      "border": null,
      "bottom": null,
      "display": null,
      "flex": null,
      "flex_flow": null,
      "grid_area": null,
      "grid_auto_columns": null,
      "grid_auto_flow": null,
      "grid_auto_rows": null,
      "grid_column": null,
      "grid_gap": null,
      "grid_row": null,
      "grid_template_areas": null,
      "grid_template_columns": null,
      "grid_template_rows": null,
      "height": null,
      "justify_content": null,
      "justify_items": null,
      "left": null,
      "margin": null,
      "max_height": null,
      "max_width": null,
      "min_height": null,
      "min_width": null,
      "object_fit": null,
      "object_position": null,
      "order": null,
      "overflow": null,
      "overflow_x": null,
      "overflow_y": null,
      "padding": null,
      "right": null,
      "top": null,
      "visibility": null,
      "width": null
     }
    },
    "9c39fba543c64548b9f33a92cf502e95": {
     "model_module": "@jupyter-widgets/controls",
     "model_module_version": "1.5.0",
     "model_name": "DescriptionStyleModel",
     "state": {
      "_model_module": "@jupyter-widgets/controls",
      "_model_module_version": "1.5.0",
      "_model_name": "DescriptionStyleModel",
      "_view_count": null,
      "_view_module": "@jupyter-widgets/base",
      "_view_module_version": "1.2.0",
      "_view_name": "StyleView",
      "description_width": ""
     }
    },
    "a55934e49c1b490d87a1abf4cb22dc7a": {
     "model_module": "@jupyter-widgets/controls",
     "model_module_version": "1.5.0",
     "model_name": "FloatProgressModel",
     "state": {
      "_dom_classes": [],
      "_model_module": "@jupyter-widgets/controls",
      "_model_module_version": "1.5.0",
      "_model_name": "FloatProgressModel",
      "_view_count": null,
      "_view_module": "@jupyter-widgets/controls",
      "_view_module_version": "1.5.0",
      "_view_name": "ProgressView",
      "bar_style": "success",
      "description": "",
      "description_tooltip": null,
      "layout": "IPY_MODEL_61da5b5fe5c1448cb0bed0dad02c94e2",
      "max": 6431829964,
      "min": 0,
      "orientation": "horizontal",
      "style": "IPY_MODEL_62f96d5ed7474905b916c000b7da352c",
      "value": 6431829964
     }
    },
    "ade5a4267c6d459787510231cd4495b1": {
     "model_module": "@jupyter-widgets/controls",
     "model_module_version": "1.5.0",
     "model_name": "HBoxModel",
     "state": {
      "_dom_classes": [],
      "_model_module": "@jupyter-widgets/controls",
      "_model_module_version": "1.5.0",
      "_model_name": "HBoxModel",
      "_view_count": null,
      "_view_module": "@jupyter-widgets/controls",
      "_view_module_version": "1.5.0",
      "_view_name": "HBoxView",
      "box_style": "",
      "children": [
       "IPY_MODEL_c3164178a664460e89d7187529991d66",
       "IPY_MODEL_ce9a62af8c1540839610e4ef7159f8ce",
       "IPY_MODEL_8cbef3c69e9a4ba8ba77be091d4deabe"
      ],
      "layout": "IPY_MODEL_2a76367d3fc34f10ad8be8e36c9beba8"
     }
    },
    "c3164178a664460e89d7187529991d66": {
     "model_module": "@jupyter-widgets/controls",
     "model_module_version": "1.5.0",
     "model_name": "HTMLModel",
     "state": {
      "_dom_classes": [],
      "_model_module": "@jupyter-widgets/controls",
      "_model_module_version": "1.5.0",
      "_model_name": "HTMLModel",
      "_view_count": null,
      "_view_module": "@jupyter-widgets/controls",
      "_view_module_version": "1.5.0",
      "_view_name": "HTMLView",
      "description": "",
      "description_tooltip": null,
      "layout": "IPY_MODEL_3b3ef67a4bbb4f598cf1ba946ac0664b",
      "placeholder": "​",
      "style": "IPY_MODEL_ca73572402d146109dc2ea23533f4dda",
      "value": "generation_config.json: 100%"
     }
    },
    "ca73572402d146109dc2ea23533f4dda": {
     "model_module": "@jupyter-widgets/controls",
     "model_module_version": "1.5.0",
     "model_name": "DescriptionStyleModel",
     "state": {
      "_model_module": "@jupyter-widgets/controls",
      "_model_module_version": "1.5.0",
      "_model_name": "DescriptionStyleModel",
      "_view_count": null,
      "_view_module": "@jupyter-widgets/base",
      "_view_module_version": "1.2.0",
      "_view_name": "StyleView",
      "description_width": ""
     }
    },
    "cc6e20555cca41539778f09777d70d12": {
     "model_module": "@jupyter-widgets/base",
     "model_module_version": "1.2.0",
     "model_name": "LayoutModel",
     "state": {
      "_model_module": "@jupyter-widgets/base",
      "_model_module_version": "1.2.0",
      "_model_name": "LayoutModel",
      "_view_count": null,
      "_view_module": "@jupyter-widgets/base",
      "_view_module_version": "1.2.0",
      "_view_name": "LayoutView",
      "align_content": null,
      "align_items": null,
      "align_self": null,
      "border": null,
      "bottom": null,
      "display": null,
      "flex": null,
      "flex_flow": null,
      "grid_area": null,
      "grid_auto_columns": null,
      "grid_auto_flow": null,
      "grid_auto_rows": null,
      "grid_column": null,
      "grid_gap": null,
      "grid_row": null,
      "grid_template_areas": null,
      "grid_template_columns": null,
      "grid_template_rows": null,
      "height": null,
      "justify_content": null,
      "justify_items": null,
      "left": null,
      "margin": null,
      "max_height": null,
      "max_width": null,
      "min_height": null,
      "min_width": null,
      "object_fit": null,
      "object_position": null,
      "order": null,
      "overflow": null,
      "overflow_x": null,
      "overflow_y": null,
      "padding": null,
      "right": null,
      "top": null,
      "visibility": null,
      "width": null
     }
    },
    "ce9a62af8c1540839610e4ef7159f8ce": {
     "model_module": "@jupyter-widgets/controls",
     "model_module_version": "1.5.0",
     "model_name": "FloatProgressModel",
     "state": {
      "_dom_classes": [],
      "_model_module": "@jupyter-widgets/controls",
      "_model_module_version": "1.5.0",
      "_model_name": "FloatProgressModel",
      "_view_count": null,
      "_view_module": "@jupyter-widgets/controls",
      "_view_module_version": "1.5.0",
      "_view_name": "ProgressView",
      "bar_style": "success",
      "description": "",
      "description_tooltip": null,
      "layout": "IPY_MODEL_53a76f53efa446a9b938502328027c98",
      "max": 124,
      "min": 0,
      "orientation": "horizontal",
      "style": "IPY_MODEL_4056ab6cb02b423aab9e7df0cdd43f8a",
      "value": 124
     }
    },
    "ddf4e7e1771d4c559fab2ecf27621363": {
     "model_module": "@jupyter-widgets/controls",
     "model_module_version": "1.5.0",
     "model_name": "DescriptionStyleModel",
     "state": {
      "_model_module": "@jupyter-widgets/controls",
      "_model_module_version": "1.5.0",
      "_model_name": "DescriptionStyleModel",
      "_view_count": null,
      "_view_module": "@jupyter-widgets/base",
      "_view_module_version": "1.2.0",
      "_view_name": "StyleView",
      "description_width": ""
     }
    },
    "e558098aa9fc48ec98857885cb6ea4f2": {
     "model_module": "@jupyter-widgets/controls",
     "model_module_version": "1.5.0",
     "model_name": "HTMLModel",
     "state": {
      "_dom_classes": [],
      "_model_module": "@jupyter-widgets/controls",
      "_model_module_version": "1.5.0",
      "_model_name": "HTMLModel",
      "_view_count": null,
      "_view_module": "@jupyter-widgets/controls",
      "_view_module_version": "1.5.0",
      "_view_name": "HTMLView",
      "description": "",
      "description_tooltip": null,
      "layout": "IPY_MODEL_743188ffb3a647d8943848352d6eed48",
      "placeholder": "​",
      "style": "IPY_MODEL_ddf4e7e1771d4c559fab2ecf27621363",
      "value": " 6.43G/6.43G [00:19&lt;00:00, 316MB/s]"
     }
    },
    "ff2b397098a34e77b4729fd6c2a622de": {
     "model_module": "@jupyter-widgets/controls",
     "model_module_version": "1.5.0",
     "model_name": "HTMLModel",
     "state": {
      "_dom_classes": [],
      "_model_module": "@jupyter-widgets/controls",
      "_model_module_version": "1.5.0",
      "_model_name": "HTMLModel",
      "_view_count": null,
      "_view_module": "@jupyter-widgets/controls",
      "_view_module_version": "1.5.0",
      "_view_name": "HTMLView",
      "description": "",
      "description_tooltip": null,
      "layout": "IPY_MODEL_984056f7f6a34dd9bb4054fea7640b52",
      "placeholder": "​",
      "style": "IPY_MODEL_9c39fba543c64548b9f33a92cf502e95",
      "value": "model.safetensors: 100%"
     }
    }
   }
  }
 },
 "nbformat": 4,
 "nbformat_minor": 0
}
